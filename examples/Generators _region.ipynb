{
 "cells": [
  {
   "cell_type": "code",
   "execution_count": 115,
   "metadata": {},
   "outputs": [],
   "source": [
    "import pandas as pd\n",
    "ss_seasonal_storage  = pd.read_csv('../networks/OpenEntrance/SS_SeasonalStorage.csv', sep=';') \n",
    "iamc_annual_data = pd.read_csv('../networks/OpenEntrance/IAMC_annual_data.csv')\n",
    "in_interconnections = pd.read_csv('../networks/OpenEntrance/IN_Interconnections.csv')\n",
    "res_renewable_units = pd.read_csv('../networks/OpenEntrance/RES_RenewableUnits.csv')\n",
    "sts_short_term_storage = pd.read_csv('../networks/OpenEntrance/STS_ShortTermStorage.csv', sep=';')\n",
    "tu_thermal_units = pd.read_csv('../networks/OpenEntrance/TU_ThermalUnits.csv')\n",
    "zp_zone_partition = pd.read_csv('../networks/OpenEntrance/ZP_ZonePartition.csv')\n",
    "zv_zone_values = pd.read_csv('../networks/OpenEntrance/ZV_ZoneValues.csv')\n",
    "\n",
    "\n",
    "\n"
   ]
  },
  {
   "cell_type": "markdown",
   "metadata": {},
   "source": [
    "# Define the NUTS-2 to region names mapping\n"
   ]
  },
  {
   "cell_type": "code",
   "execution_count": 116,
   "metadata": {},
   "outputs": [],
   "source": [
    "nuts_to_region = {\n",
    "    \"ES11\": \"Galicia\",\n",
    "    \"ES12\": \"Principado de Asturias\",\n",
    "    \"ES13\": \"Cantabria\",\n",
    "    \"ES21\": \"País Vasco\",\n",
    "    \"ES22\": \"Comunidad Foral de Navarra\",\n",
    "    \"ES23\": \"La Rioja\",\n",
    "    \"ES24\": \"Aragón\",\n",
    "    \"ES30\": \"Comunidad de Madrid\",\n",
    "    \"ES41\": \"Castilla y León\",\n",
    "    \"ES42\": \"Castilla-La Mancha\",\n",
    "    \"ES43\": \"Extremadura\",\n",
    "    \"ES51\": \"Cataluña\",\n",
    "    \"ES52\": \"Comunidad Valenciana\",\n",
    "    \"ES53\": \"Islas Baleares\",\n",
    "    \"ES61\": \"Andalucía\",\n",
    "    \"ES62\": \"Región de Murcia\",\n",
    "    \"ES63\": \"Ciudad Autónoma de Ceuta\",\n",
    "    \"ES64\": \"Ciudad Autónoma de Melilla\",\n",
    "    \"ES70\": \"Canarias\"\n",
    "}\n"
   ]
  },
  {
   "cell_type": "markdown",
   "metadata": {},
   "source": [
    "# Split the combined columns in the RES and TU files\n"
   ]
  },
  {
   "cell_type": "code",
   "execution_count": 117,
   "metadata": {},
   "outputs": [],
   "source": [
    "\n",
    "res_renewable_units_split = res_renewable_units['Name;Zone;NumberUnits;MaxPower;MinPower;MaxPowerProfile;Energy;Kappa;Capacity;MaxAddedCapacity;MaxRetCapacity;InvestmentCost'].str.split(';', expand=True)\n",
    "res_renewable_units_split.columns = ['Name', 'Zone', 'NumberUnits', 'MaxPower', 'MinPower', 'MaxPowerProfile', 'Energy', 'Kappa', 'Capacity', 'MaxAddedCapacity', 'MaxRetCapacity', 'InvestmentCost']\n",
    "\n",
    "tu_thermal_units_split = tu_thermal_units['Zone;Name;NumberUnits;MaxPower;VariableCost;FixedCost;InvestmentCost;MaxAddedCapacity;MaxRetCapacity'].str.split(';', expand=True)\n",
    "tu_thermal_units_split.columns = ['Zone', 'Name', 'NumberUnits', 'MaxPower', 'VariableCost', 'FixedCost', 'InvestmentCost', 'MaxAddedCapacity', 'MaxRetCapacity']\n",
    "\n"
   ]
  },
  {
   "cell_type": "code",
   "execution_count": 118,
   "metadata": {},
   "outputs": [],
   "source": [
    "# Convert it in numerical data\n",
    "res_renewable_units_split['MaxPower'] = pd.to_numeric(res_renewable_units_split['MaxPower'], errors='coerce')\n",
    "res_renewable_units_split['NumberUnits'] = pd.to_numeric(res_renewable_units_split['NumberUnits'], errors='coerce')\n",
    "tu_thermal_units_split['MaxPower'] = pd.to_numeric(tu_thermal_units_split['MaxPower'], errors='coerce')\n",
    "tu_thermal_units_split['NumberUnits'] = pd.to_numeric(tu_thermal_units_split['NumberUnits'], errors='coerce')\n"
   ]
  },
  {
   "cell_type": "code",
   "execution_count": 119,
   "metadata": {},
   "outputs": [],
   "source": [
    "# Combine dataframes\n",
    "generators = pd.concat([res_renewable_units_split[['Name', 'Zone', 'NumberUnits', 'MaxPower']],\n",
    "                         tu_thermal_units_split[['Name', 'Zone', 'NumberUnits', 'MaxPower']]], ignore_index=True)\n",
    "\n",
    "# Map the zones and the regions\n",
    "generators['Region'] = generators['Zone'].map(nuts_to_region)"
   ]
  },
  {
   "cell_type": "markdown",
   "metadata": {},
   "source": [
    "# Group by region and generator type"
   ]
  },
  {
   "cell_type": "code",
   "execution_count": 120,
   "metadata": {},
   "outputs": [
    {
     "name": "stdout",
     "output_type": "stream",
     "text": [
      "                    Region     Name  NumberUnits  MaxPower\n",
      "0                Andalucía     CCGT            1   1738.70\n",
      "1                Andalucía    CCGT2            1    482.50\n",
      "2                Andalucía    CCGT3            1   3977.80\n",
      "3                Andalucía  biomass            1     20.00\n",
      "4                Andalucía     coal            1    543.02\n",
      "..                     ...      ...          ...       ...\n",
      "60  Principado de Asturias    solar            1    250.14\n",
      "61        Región de Murcia     CCGT            1   3425.30\n",
      "62        Región de Murcia     coal            1   1068.52\n",
      "63        Región de Murcia   onwind            1    648.00\n",
      "64        Región de Murcia    solar            1    557.19\n",
      "\n",
      "[65 rows x 4 columns]\n"
     ]
    }
   ],
   "source": [
    "# Agrupar por región y tipo de generador\n",
    "grouped_generators = generators.groupby(['Region', 'Name']).agg({'NumberUnits': 'sum', 'MaxPower': 'sum'}).reset_index()\n",
    "\n",
    "# Mostrar el DataFrame agrupado\n",
    "print(grouped_generators)\n",
    "\n",
    "# Guardar el DataFrame agrupado en un archivo CSV\n",
    "grouped_generators.to_csv('Grouped_Generators_by_Region_and_Type.csv', index=False)"
   ]
  },
  {
   "cell_type": "markdown",
   "metadata": {},
   "source": [
    "# What RES + ROR is in that region"
   ]
  },
  {
   "cell_type": "code",
   "execution_count": 121,
   "metadata": {},
   "outputs": [],
   "source": [
    "# From the res_renewable_units_split dataframe, filter the data which starts with ES from the Zone column\n",
    "res_renewable_units_split = res_renewable_units_split[res_renewable_units_split['Zone'].str.startswith('ES')]\n",
    "\n",
    "# Map zones to region names\n",
    "res_renewable_units_split['Region'] = res_renewable_units_split['Zone'].map(nuts_to_region)\n"
   ]
  },
  {
   "cell_type": "code",
   "execution_count": 122,
   "metadata": {},
   "outputs": [
    {
     "name": "stdout",
     "output_type": "stream",
     "text": [
      "                        Region    Name  NumberUnits  MaxPower\n",
      "0                    Andalucía  onwind            1   2660.22\n",
      "1                    Andalucía   solar            1   1779.21\n",
      "2                       Aragón  onwind            1    945.95\n",
      "3                       Aragón     ror            1     36.65\n",
      "4                       Aragón   solar            1    480.17\n",
      "5                    Cantabria  onwind            1   1386.04\n",
      "6                    Cantabria   solar            1    379.39\n",
      "7              Castilla y León  onwind            1   1162.47\n",
      "8              Castilla y León   solar            1    397.93\n",
      "9           Castilla-La Mancha  onwind            1   4457.61\n",
      "10          Castilla-La Mancha   solar            1   2463.28\n",
      "11                    Cataluña  onwind            1    363.48\n",
      "12                    Cataluña     ror            1    110.36\n",
      "13                    Cataluña   solar            1    287.89\n",
      "14  Comunidad Foral de Navarra  onwind            1   2389.28\n",
      "15  Comunidad Foral de Navarra   solar            1    678.30\n",
      "16        Comunidad Valenciana  onwind            1   2739.78\n",
      "17        Comunidad Valenciana   solar            1   1155.95\n",
      "18         Comunidad de Madrid  onwind            1   1001.58\n",
      "19         Comunidad de Madrid   solar            1    763.25\n",
      "20                 Extremadura  onwind            1   1286.90\n",
      "21                 Extremadura   solar            1    615.61\n",
      "22                     Galicia  onwind            1   2136.93\n",
      "23                     Galicia   solar            1    244.63\n",
      "24                    La Rioja  onwind            1   2379.45\n",
      "25                    La Rioja   solar            1   1064.55\n",
      "26                  País Vasco  onwind            1   1887.27\n",
      "27                  País Vasco   solar            1    564.06\n",
      "28      Principado de Asturias  onwind            1   1380.89\n",
      "29      Principado de Asturias   solar            1    250.14\n",
      "30            Región de Murcia  onwind            1    648.00\n",
      "31            Región de Murcia   solar            1    557.19\n"
     ]
    }
   ],
   "source": [
    "# Group by region and type of generator\n",
    "grouped_res_renewable_units_split = res_renewable_units_split.groupby(['Region', 'Name']).agg({'NumberUnits': 'sum', 'MaxPower': 'sum'}).reset_index()\n",
    "\n",
    "# Display the grouped DataFrame\n",
    "print(grouped_res_renewable_units_split)\n",
    "\n",
    "# Save the grouped DataFrame to a CSV file\n",
    "grouped_res_renewable_units_split.to_csv('Grouped_RES_RenewableUnits_by_Region_and_Type.csv', index=False)"
   ]
  },
  {
   "cell_type": "markdown",
   "metadata": {},
   "source": [
    "# What pumped storage is in the region"
   ]
  },
  {
   "cell_type": "code",
   "execution_count": 123,
   "metadata": {},
   "outputs": [],
   "source": [
    "# Convert to numeric data\n",
    "sts_short_term_storage['MaxPower'] = pd.to_numeric(sts_short_term_storage['MaxPower'], errors='coerce')\n",
    "sts_short_term_storage['NumberUnits'] = pd.to_numeric(sts_short_term_storage['NumberUnits'], errors='coerce')\n",
    "\n",
    "\n"
   ]
  },
  {
   "cell_type": "code",
   "execution_count": 124,
   "metadata": {},
   "outputs": [],
   "source": [
    "# Filter the data for pumped storage\n",
    "pumped_storage = sts_short_term_storage[sts_short_term_storage['AddPumpedStorage'].notnull()]\n",
    "\n",
    "# Map zones to region names\n",
    "pumped_storage['Region'] = pumped_storage['Zone'].map(nuts_to_region)\n"
   ]
  },
  {
   "cell_type": "code",
   "execution_count": 125,
   "metadata": {},
   "outputs": [
    {
     "name": "stdout",
     "output_type": "stream",
     "text": [
      "                        Region            Name  NumberUnits     MaxPower\n",
      "0                    Andalucía     Lithium-Ion            1  2647.381159\n",
      "1                    Andalucía  Pumped Storage            1  2385.361183\n",
      "2                       Aragón     Lithium-Ion            1   413.231542\n",
      "3                       Aragón  Pumped Storage            1   372.332665\n",
      "4                    Cantabria     Lithium-Ion            1   183.207607\n",
      "5                    Cantabria  Pumped Storage            1   165.074950\n",
      "6              Castilla y León     Lithium-Ion            1   760.694778\n",
      "7              Castilla y León  Pumped Storage            1   685.406327\n",
      "8           Castilla-La Mancha     Lithium-Ion            1   639.965358\n",
      "9           Castilla-La Mancha  Pumped Storage            1   576.625892\n",
      "10                    Cataluña     Lithium-Ion            1  2399.724452\n",
      "11                    Cataluña  Pumped Storage            1  2162.215871\n",
      "12  Comunidad Foral de Navarra     Lithium-Ion            1   204.465510\n",
      "13  Comunidad Foral de Navarra  Pumped Storage            1   184.228890\n",
      "14        Comunidad Valenciana     Lithium-Ion            1  1567.291788\n",
      "15        Comunidad Valenciana  Pumped Storage            1  1412.171791\n",
      "16         Comunidad de Madrid     Lithium-Ion            1  2137.432076\n",
      "17         Comunidad de Madrid  Pumped Storage            1  1925.883430\n",
      "18                 Extremadura     Lithium-Ion            1   338.757047\n",
      "19                 Extremadura  Pumped Storage            1   305.229153\n",
      "20                     Galicia     Lithium-Ion            1   853.076749\n",
      "21                     Galicia  Pumped Storage            1   768.644951\n",
      "22                    La Rioja     Lithium-Ion            1    99.674544\n",
      "23                    La Rioja  Pumped Storage            1    89.809429\n",
      "24                  País Vasco     Lithium-Ion            1   694.363173\n",
      "25                  País Vasco  Pumped Storage            1   625.639777\n",
      "26      Principado de Asturias     Lithium-Ion            1   324.668574\n",
      "27      Principado de Asturias  Pumped Storage            1   292.535063\n",
      "28            Región de Murcia     Lithium-Ion            1   466.839981\n",
      "29            Región de Murcia  Pumped Storage            1   420.635300\n"
     ]
    }
   ],
   "source": [
    "# Group by region and type of pumped storage\n",
    "grouped_pumped_storage = pumped_storage.groupby(['Region', 'Name']).agg({'NumberUnits': 'sum', 'MaxPower': 'sum'}).reset_index()\n",
    "\n",
    "# Display the grouped DataFrame\n",
    "print(grouped_pumped_storage)"
   ]
  },
  {
   "cell_type": "code",
   "execution_count": 126,
   "metadata": {},
   "outputs": [],
   "source": [
    "# Save the grouped DataFrame to a CSV file\n",
    "grouped_pumped_storage.to_csv('Grouped_Pumped_Storage_by_Region_and_Type.csv', index=False)"
   ]
  },
  {
   "cell_type": "markdown",
   "metadata": {},
   "source": [
    "# Seasonal Storage and how much"
   ]
  },
  {
   "cell_type": "code",
   "execution_count": 127,
   "metadata": {},
   "outputs": [],
   "source": [
    "# Convert to numeric data\n",
    "ss_seasonal_storage['MaxPower'] = pd.to_numeric(ss_seasonal_storage['MaxPower'], errors='coerce')\n",
    "ss_seasonal_storage['NumberUnits'] = pd.to_numeric(ss_seasonal_storage['NumberUnits'], errors='coerce')"
   ]
  },
  {
   "cell_type": "code",
   "execution_count": 129,
   "metadata": {},
   "outputs": [
    {
     "name": "stdout",
     "output_type": "stream",
     "text": [
      "     Region       Name  NumberUnits  MaxPower\n",
      "0  Cataluña  Reservoir            1    7490.0\n"
     ]
    }
   ],
   "source": [
    "# Filter the data for seasonal storage which is the MaxPower.\n",
    "seasonal_storage = ss_seasonal_storage[ss_seasonal_storage['MaxPower'].notnull()]\n",
    "seasonal_storage\n",
    "# Filter the data for pumped storage\n",
    "seasonal_storage = ss_seasonal_storage[ss_seasonal_storage['AddPumpedStorage'].notnull()]\n",
    "\n",
    "# Map zones to region names\n",
    "ss_seasonal_storage['Region'] = ss_seasonal_storage['Zone'].map(nuts_to_region)\n",
    "# Group by region and type of pumped storage\n",
    "grouped_ss_seasonal_storage = ss_seasonal_storage.groupby(['Region', 'Name']).agg({'NumberUnits': 'sum', 'MaxPower': 'sum'}).reset_index()\n",
    "\n",
    "# Display the grouped DataFrame\n",
    "print(grouped_ss_seasonal_storage )\n"
   ]
  },
  {
   "cell_type": "markdown",
   "metadata": {},
   "source": [
    "# Load proportion"
   ]
  },
  {
   "cell_type": "code",
   "execution_count": 130,
   "metadata": {},
   "outputs": [],
   "source": [
    "# Filter for total load values\n",
    "total_load = zv_zone_values[zv_zone_values['Type'] == 'Total']\n",
    "\n",
    "# Extract Spain's total load value\n",
    "spain_load = total_load[total_load['Zone'] == 'Spain']['value'].values[0]"
   ]
  },
  {
   "cell_type": "code",
   "execution_count": 131,
   "metadata": {},
   "outputs": [
    {
     "name": "stdout",
     "output_type": "stream",
     "text": [
      "Spain's Load: 357831438.52732056\n",
      "Overall Load: 2690472938.6805863\n",
      "Proportion of Spain's Load: 0.13299945648321662\n"
     ]
    }
   ],
   "source": [
    "# Calculate the total load for all zones\n",
    "overall_load = total_load['value'].sum()\n",
    "\n",
    "# Calculate the proportion of Spain's load to the overall load\n",
    "spain_load_proportion = spain_load / overall_load\n",
    "\n",
    "# Print the results\n",
    "print(f\"Spain's Load: {spain_load}\")\n",
    "print(f\"Overall Load: {overall_load}\")\n",
    "print(f\"Proportion of Spain's Load: {spain_load_proportion}\")"
   ]
  },
  {
   "cell_type": "markdown",
   "metadata": {},
   "source": [
    "# Regions connected and transported back"
   ]
  },
  {
   "cell_type": "code",
   "execution_count": 133,
   "metadata": {},
   "outputs": [
    {
     "name": "stdout",
     "output_type": "stream",
     "text": [
      "              Name  MaxPowerFlow  MinPowerFlow\n",
      "0   Portugal>Spain        4500.0       -4100.0\n",
      "1  Spain>BigFrance        5000.0       -5000.0\n"
     ]
    }
   ],
   "source": [
    "# Filter interconnections involving Spain\n",
    "spain_interconnections = in_interconnections[in_interconnections['Name'].str.contains('Spain')]\n",
    "\n",
    "# Extract relevant details about the connections\n",
    "spain_connections = spain_interconnections[['Name', 'MaxPowerFlow', 'MinPowerFlow']]\n",
    "\n",
    "# Display the details\n",
    "print(spain_connections)"
   ]
  }
 ],
 "metadata": {
  "kernelspec": {
   "display_name": "pypsa-eur",
   "language": "python",
   "name": "python3"
  },
  "language_info": {
   "codemirror_mode": {
    "name": "ipython",
    "version": 3
   },
   "file_extension": ".py",
   "mimetype": "text/x-python",
   "name": "python",
   "nbconvert_exporter": "python",
   "pygments_lexer": "ipython3",
   "version": "3.11.9"
  }
 },
 "nbformat": 4,
 "nbformat_minor": 2
}
