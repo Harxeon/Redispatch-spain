{
 "cells": [
  {
   "cell_type": "code",
   "execution_count": 5,
   "metadata": {},
   "outputs": [],
   "source": [
    "import pypsa"
   ]
  },
  {
   "cell_type": "code",
   "execution_count": 10,
   "metadata": {},
   "outputs": [
    {
     "name": "stderr",
     "output_type": "stream",
     "text": [
      "INFO:pypsa.io:Imported network elec_s_6_ec_lcopt_.nc has buses, carriers, generators, lines, links, loads, shapes, storage_units, stores\n",
      "INFO:pypsa.io:Imported network elec_s_8_ec_lcopt_Co2L-24H.nc has buses, carriers, generators, global_constraints, lines, links, loads, shapes, storage_units, stores\n",
      "INFO:pypsa.io:Imported network 2020.nc has buses, carriers, generators, lines, links, loads, shapes, storage_units, stores\n",
      "INFO:pypsa.io:Imported network elec_s_2_ec_lcopt_.nc has buses, carriers, generators, links, loads, shapes, storage_units, stores\n",
      "INFO:pypsa.io:Imported network elec_s_2_ec_lcopt_2020_2030.nc has buses, carriers, generators, links, loads, shapes, storage_units, stores\n"
     ]
    }
   ],
   "source": [
    "n = pypsa.Network(\"../networks/elec_s_6_ec_lcopt_.nc\")\n",
    "m = pypsa.Network(\"../networks/elec_s_8_ec_lcopt_Co2L-24H.nc\") # Per 24 hours.\n",
    "o = pypsa.Network(\"../networks/2020.nc\") # Capacity planning of 2020, horizon is 2020.\n",
    "p = pypsa.Network(\"../networks/elec_s_2_ec_lcopt_2030_2030.nc\") # Capacity planning of 2030, horizon is 2030.\n",
    "q = pypsa.Network(\"../networks/elec_s_2_ec_lcopt_2020_2030.nc\") # Capacity planning of 2030, horizon both 2020 and 2030."
   ]
  },
  {
   "cell_type": "code",
   "execution_count": 12,
   "metadata": {},
   "outputs": [
    {
     "name": "stdout",
     "output_type": "stream",
     "text": [
      "carrier\n",
      "CCGT             23432.532000\n",
      "coal              4632.297091\n",
      "nuclear           7117.200000\n",
      "offwind-ac           0.119997\n",
      "offwind-dc           0.000000\n",
      "offwind-float        2.455979\n",
      "oil                466.971000\n",
      "onwind           26814.079310\n",
      "ror                277.008248\n",
      "solar            10134.984515\n",
      "solar-hsat           0.000000\n",
      "Name: p_nom, dtype: float64\n",
      "carrier\n",
      "CCGT             23432.532000\n",
      "coal              4632.297091\n",
      "nuclear           7117.200000\n",
      "offwind-ac           0.000000\n",
      "offwind-dc           0.000000\n",
      "offwind-float        0.000000\n",
      "oil                466.971000\n",
      "onwind               0.000000\n",
      "ror                277.008247\n",
      "solar                0.000000\n",
      "solar-hsat           0.000000\n",
      "Name: p_nom, dtype: float64\n",
      "carrier\n",
      "CCGT             23432.532000\n",
      "coal              4632.297091\n",
      "nuclear           7117.200000\n",
      "offwind-ac           0.000000\n",
      "offwind-dc           0.000000\n",
      "offwind-float        0.000000\n",
      "oil                466.971000\n",
      "onwind               0.000000\n",
      "ror                277.008247\n",
      "solar                0.000000\n",
      "solar-hsat           0.000000\n",
      "Name: p_nom, dtype: float64\n"
     ]
    }
   ],
   "source": [
    "n.generators.groupby('carrier')['p_nom'].sum()\n",
    "# m.generators.groupby('carrier')['p_nom'].sum()\n",
    "print(o.generators.groupby('carrier')['p_nom'].sum())\n",
    "print(p.generators.groupby('carrier')['p_nom'].sum())\n",
    "print(q.generators.groupby('carrier')['p_nom'].sum())"
   ]
  },
  {
   "cell_type": "code",
   "execution_count": 25,
   "metadata": {},
   "outputs": [
    {
     "name": "stdout",
     "output_type": "stream",
     "text": [
      "snapshot\n",
      "2013-01-01 00:00:00    0.0\n",
      "2013-01-01 01:00:00    0.0\n",
      "2013-01-01 02:00:00    0.0\n",
      "2013-01-01 03:00:00    0.0\n",
      "2013-01-01 04:00:00    0.0\n",
      "                      ... \n",
      "2013-12-31 19:00:00    0.0\n",
      "2013-12-31 20:00:00    0.0\n",
      "2013-12-31 21:00:00    0.0\n",
      "2013-12-31 22:00:00    0.0\n",
      "2013-12-31 23:00:00    0.0\n",
      "Length: 8760, dtype: float64\n",
      "snapshot\n",
      "2013-01-01 00:00:00    22974.0\n",
      "2013-01-01 01:00:00    21382.0\n",
      "2013-01-01 02:00:00    19910.0\n",
      "2013-01-01 03:00:00    18985.0\n",
      "2013-01-01 04:00:00    18646.0\n",
      "                        ...   \n",
      "2013-12-31 19:00:00    30537.0\n",
      "2013-12-31 20:00:00    28715.0\n",
      "2013-12-31 21:00:00    26449.0\n",
      "2013-12-31 22:00:00    25322.0\n",
      "2013-12-31 23:00:00    24204.0\n",
      "Length: 8760, dtype: float64\n"
     ]
    }
   ],
   "source": [
    "# Get the load over all generators\n",
    "print(n.loads_t.p.sum(axis=1))\n",
    "print(q.loads_t.p.sum(axis=1))\n"
   ]
  }
 ],
 "metadata": {
  "kernelspec": {
   "display_name": "pypsa",
   "language": "python",
   "name": "python3"
  },
  "language_info": {
   "codemirror_mode": {
    "name": "ipython",
    "version": 3
   },
   "file_extension": ".py",
   "mimetype": "text/x-python",
   "name": "python",
   "nbconvert_exporter": "python",
   "pygments_lexer": "ipython3",
   "version": "3.11.8"
  }
 },
 "nbformat": 4,
 "nbformat_minor": 2
}
